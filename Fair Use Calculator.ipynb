{
  "nbformat": 4,
  "nbformat_minor": 0,
  "metadata": {
    "colab": {
      "provenance": []
    },
    "kernelspec": {
      "name": "python3",
      "display_name": "Python 3"
    },
    "language_info": {
      "name": "python"
    }
  },
  "cells": [
    {
      "cell_type": "code",
      "execution_count": null,
      "metadata": {
        "colab": {
          "base_uri": "https://localhost:8080/"
        },
        "id": "Ozp99wVZiBCb",
        "outputId": "a6fcc02c-46c8-4a2a-8acf-cf9ab66ed81d"
      },
      "outputs": [
        {
          "output_type": "stream",
          "name": "stdout",
          "text": [
            "Drive already mounted at /content/drive; to attempt to forcibly remount, call drive.mount(\"/content/drive\", force_remount=True).\n"
          ]
        }
      ],
      "source": [
        "from google.colab import drive\n",
        "drive.mount('/content/drive')"
      ]
    },
    {
      "cell_type": "markdown",
      "source": [
        "# Fair Use Calc Training and Testing"
      ],
      "metadata": {
        "id": "BF88mHVLclkg"
      }
    },
    {
      "cell_type": "code",
      "source": [
        "import numpy as np\n",
        "import pandas as pd\n",
        "from sklearn.feature_extraction.text import TfidfVectorizer\n",
        "from sklearn.preprocessing import StandardScaler\n",
        "from sklearn.metrics import mean_absolute_error\n",
        "from sklearn.ensemble import GradientBoostingRegressor\n",
        "\n",
        "# Load the training and testing data\n",
        "train_df = pd.read_csv('/content/drive/MyDrive/FairUseCalculatorData/Training Dataset.csv')\n",
        "test_df = pd.read_csv('/content/drive/MyDrive/FairUseCalculatorData/Testing Dataset.csv')\n",
        "\n",
        "\n",
        "text_cols_train = train_df.select_dtypes(include=[\"object\"]).columns\n",
        "numeric_cols_train = train_df.select_dtypes(include=[\"int64\",\"float64\"]).columns\n",
        "numeric_cols_train = numeric_cols_train.drop('Fair Use %')\n",
        "text_cols_test = test_df.select_dtypes(include=[\"object\"]).columns\n",
        "numeric_cols_test = test_df.select_dtypes(include=[\"int64\",\"float64\"]).columns\n",
        "numeric_cols_test = numeric_cols_test.drop('Fair Use %')\n",
        "train_df['combined_text'] = train_df[text_cols_train].apply(lambda row: ' '.join(row.values.astype(str)), axis=1)\n",
        "test_df['combined_text'] = test_df[text_cols_test].apply(lambda row: ' '.join(row.values.astype(str)), axis=1)\n",
        "all_text = pd.concat([train_df['combined_text'], test_df['combined_text']], axis=0)\n",
        "X_train = train_df['combined_text'].to_numpy().reshape(-1, 1)\n",
        "X_train = np.hstack((X_train, train_df[numeric_cols_train]))\n",
        "X_test = test_df['combined_text'].to_numpy().reshape(-1, 1)\n",
        "X_test = np.hstack((X_test, test_df[numeric_cols_test]))\n",
        "y_train = train_df['Fair Use %']\n",
        "y_test = test_df['Fair Use %']\n",
        "vectorizer = TfidfVectorizer(stop_words='english')\n",
        "vectorizer.fit(all_text)\n",
        "X_train_texts = vectorizer.transform(train_df['combined_text']).toarray()\n",
        "X_test_texts = vectorizer.transform(test_df['combined_text']).toarray()\n",
        "scaler = StandardScaler()\n",
        "scaler.fit(X_train[:, 1:])\n",
        "X_train_nums_scaled = scaler.transform(X_train[:, 1:])\n",
        "X_test_nums_scaled = scaler.transform(X_test[:, 1:])\n",
        "X_train_preprocessed = np.hstack((X_train_texts, X_train_nums_scaled))\n",
        "X_test_preprocessed = np.hstack((X_test_texts, X_test_nums_scaled))\n",
        "\n",
        "# Train the model\n",
        "model = GradientBoostingRegressor(random_state=0)\n",
        "model.fit(X_train_preprocessed, y_train)\n",
        "predictions = model.predict(X_test_preprocessed)\n",
        "mae = mean_absolute_error(y_test, predictions)\n",
        "\n",
        "print(mae)"
      ],
      "metadata": {
        "colab": {
          "base_uri": "https://localhost:8080/"
        },
        "id": "BLeSR6ibMZH6",
        "outputId": "99045e23-231e-46a0-ca9e-9eaadbe1acbd"
      },
      "execution_count": null,
      "outputs": [
        {
          "output_type": "stream",
          "name": "stdout",
          "text": [
            "33.35953380470592\n"
          ]
        }
      ]
    },
    {
      "cell_type": "markdown",
      "source": [
        "# Image Match %"
      ],
      "metadata": {
        "id": "T7CDp1kqcgeZ"
      }
    },
    {
      "cell_type": "code",
      "source": [
        "import cv2\n",
        "from skimage.metrics import structural_similarity as ssim\n",
        "\n",
        "def resize_image(image, target_size=(300, 300)):\n",
        "    return cv2.resize(image, target_size)\n",
        "\n",
        "def image_similarity(image1_path, image2_path, target_size=(300, 300)):\n",
        "    image1 = cv2.imread(image1_path)\n",
        "    image2 = cv2.imread(image2_path)\n",
        "    resized_image1 = resize_image(image1, target_size)\n",
        "    resized_image2 = resize_image(image2, target_size)\n",
        "    gray_image1 = cv2.cvtColor(resized_image1, cv2.COLOR_BGR2GRAY)\n",
        "    gray_image2 = cv2.cvtColor(resized_image2, cv2.COLOR_BGR2GRAY)\n",
        "    ssi_index, _ = ssim(gray_image1, gray_image2, full=True)\n",
        "    similarity_percentage = ssi_index * 100\n",
        "\n",
        "    return similarity_percentage\n",
        "\n",
        "image1_path = '/content/drive/MyDrive/P Final Help and Doc Pics/Sphere Select Change Size Of Sphere Pic.jpg'\n",
        "image2_path = '/content/drive/MyDrive/P Final Help and Doc Pics/Sphere Select Pic.jpg'\n",
        "\n",
        "match_p = image_similarity(image1_path, image2_path)\n",
        "print(f\"Similarity Percentage: {match_p:.2f}%\")"
      ],
      "metadata": {
        "colab": {
          "base_uri": "https://localhost:8080/"
        },
        "id": "nFz6olpacf8_",
        "outputId": "0fcc5a7e-7067-4eb0-eeba-4901162b44e2"
      },
      "execution_count": null,
      "outputs": [
        {
          "output_type": "stream",
          "name": "stdout",
          "text": [
            "Similarity Percentage: 52.75%\n"
          ]
        }
      ]
    },
    {
      "cell_type": "markdown",
      "source": [
        "# User Input"
      ],
      "metadata": {
        "id": "N0YEHEzpcjs8"
      }
    },
    {
      "cell_type": "code",
      "source": [
        "import pandas as pd\n",
        "\n",
        "prompts = [\n",
        "    \"Please describe your work\",\n",
        "    \"Additional Details of Original Work\",\n",
        "    \"How did you notice something was wrong?\",\n",
        "    \"Use Environment\",\n",
        "    \"Publication Status\",\n",
        "    \"Impact on Market Value\",\n",
        "    \"Market Competition\",\n",
        "    \"Other relevant information\",\n",
        "    \"Use of Key Portions\",\n",
        "    \"Extent of Use\",\n",
        "    \"Image 1 Link\",\n",
        "    \"Image 2 Link\"\n",
        "]\n",
        "\n",
        "responses = {}\n",
        "links = []\n",
        "\n",
        "for prompt in prompts:\n",
        "    response_str = input(f\"{prompt}: \")\n",
        "    if prompt in [\"Use of Key Portions\", \"Extent of Use\", \"Match %\"]:\n",
        "        response_num = float(response_str)\n",
        "        responses[prompt] = response_num\n",
        "    elif prompt in [\"Image 1 Link\", \"Image 2 Link\"]:\n",
        "        links.append(response_str)\n",
        "    else:\n",
        "        responses[prompt] = response_str\n",
        "\n",
        "responses[\"Match %\"] = image_similarity(str(links[0]), str(links[1]))\n",
        "\n",
        "df = pd.DataFrame([responses])"
      ],
      "metadata": {
        "colab": {
          "base_uri": "https://localhost:8080/"
        },
        "id": "SGU8QHLvQmiP",
        "outputId": "78a9aa17-e90a-4b66-aa7a-5db04ff19a13"
      },
      "execution_count": null,
      "outputs": [
        {
          "name": "stdout",
          "output_type": "stream",
          "text": [
            "Please describe your work: Drawing of a knight wielding a star shaped mace. This is a fictional charcter named Star Knight that I created. I posted this on my blog, reddit, and Instagram.\n",
            "Additional Details of Original Work: \n",
            "How did you notice something was wrong?: I saw a version of my work posted on reddit. It was edited to match the artistic style of \"Starry Night\". The background was also changed to match Starry Night\n",
            "Use Environment: Reddit\n",
            "Publication Status: Published\n",
            "Impact on Market Value: Makes a version of my character art available on one of the same websites that I originally posted it to.\n",
            "Market Competition: Makes a version of my character art available on one of the same websites that I originally posted it to.\n",
            "Other relevant information: They are using a highly edited version of my original work. The central figure is the same, but it has been re-colored, re-stylized, and put on top of a new background. The new style is a play on my character's name. Its comibination with the new and very different style gives the image a new meaning. Arent selling the new work commercially.\n",
            "Use of Key Portions: 3\n",
            "Extent of Use: 3\n",
            "Image 1 Link: /content/drive/MyDrive/P Final Help and Doc Pics/Sphere Select Change Size Of Sphere Pic.jpg\n",
            "Image 2 Link: /content/drive/MyDrive/P Final Help and Doc Pics/Sphere Select Pic.jpg\n"
          ]
        }
      ]
    },
    {
      "cell_type": "code",
      "source": [
        "import numpy as np\n",
        "import pandas as pd\n",
        "from sklearn.feature_extraction.text import TfidfVectorizer\n",
        "from sklearn.preprocessing import StandardScaler\n",
        "\n",
        "text_columns = [\"Please describe your work\", \"Additional Details of Original Work\", \"How did you notice something was wrong?\", \"Use Environment\", \"Publication Status\", \"Impact on Market Value\", \"Market Competition\", \"Other relevant information\"]\n",
        "num_columns = [\"Use of Key Portions\", \"Extent of Use\", \"Match %\"]\n",
        "\n",
        "all_text = df[text_columns].apply(lambda row: ' '.join(row.values.astype(str)), axis=1)\n",
        "\n",
        "vectorizer = TfidfVectorizer(stop_words='english')\n",
        "X_text = vectorizer.fit_transform(all_text).toarray()\n",
        "\n",
        "scaler = StandardScaler()\n",
        "X_nums_scaled = scaler.fit_transform(df[num_columns])\n",
        "\n",
        "X_preprocessed = np.hstack((X_text, X_nums_scaled))\n",
        "\n",
        "df_preprocessed = pd.DataFrame(X_preprocessed)\n"
      ],
      "metadata": {
        "id": "RzUdIrxGT8_C"
      },
      "execution_count": null,
      "outputs": []
    },
    {
      "cell_type": "code",
      "source": [
        "num_empty_features = 1445 - df_preprocessed.shape[1]\n",
        "empty_data = np.full((1, num_empty_features), np.nan)\n",
        "empty_df = pd.DataFrame(empty_data, columns=[i + 12 for i in range(1, num_empty_features + 1)])\n",
        "placeholder_value = np.finfo(np.float32).min\n",
        "\n",
        "empty_dfilled = empty_df.fillna(placeholder_value)\n",
        "combined_df = pd.concat([df_preprocessed, empty_dfilled], axis=1)"
      ],
      "metadata": {
        "id": "lz6STt5jYazN"
      },
      "execution_count": null,
      "outputs": []
    },
    {
      "cell_type": "code",
      "source": [
        "pred = model.predict(combined_df)\n",
        "\n",
        "print(pred)"
      ],
      "metadata": {
        "colab": {
          "base_uri": "https://localhost:8080/"
        },
        "id": "iADOZEf7Sd0J",
        "outputId": "83ddffa3-28fb-4712-b0e6-54ae34fb0936"
      },
      "execution_count": null,
      "outputs": [
        {
          "output_type": "stream",
          "name": "stdout",
          "text": [
            "[86.36929576]\n"
          ]
        }
      ]
    }
  ]
}